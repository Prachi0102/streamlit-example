{
  "nbformat": 4,
  "nbformat_minor": 0,
  "metadata": {
    "colab": {
      "provenance": [],
      "authorship_tag": "ABX9TyMSBDGT1WFqtm55P2arcFcH",
      "include_colab_link": true
    },
    "kernelspec": {
      "name": "python3",
      "display_name": "Python 3"
    },
    "language_info": {
      "name": "python"
    }
  },
  "cells": [
    {
      "cell_type": "markdown",
      "metadata": {
        "id": "view-in-github",
        "colab_type": "text"
      },
      "source": [
        "<a href=\"https://colab.research.google.com/github/Prachi0102/streamlit-example/blob/master/Expenses_CA1_project.ipynb\" target=\"_parent\"><img src=\"https://colab.research.google.com/assets/colab-badge.svg\" alt=\"Open In Colab\"/></a>"
      ]
    },
    {
      "cell_type": "code",
      "execution_count": 15,
      "metadata": {
        "id": "d7hTetY_h1g6"
      },
      "outputs": [],
      "source": [
        "def load_data():\n",
        "    with open(\"expense_data_1.csv\", 'r') as file:\n",
        "        lines = file.readlines()\n",
        "\n",
        "    header = lines[0].strip().split(',')\n",
        "    data_rows = [line.strip().split(',') for line in lines[1:]]\n",
        "\n",
        "    data = []\n",
        "    for row in data_rows:\n",
        "        entry = {header[i]: row[i] for i in range(len(header))}\n",
        "        entry[\"INR\"] = float(entry[\"INR\"])\n",
        "        entry[\"Amount\"] = float(entry[\"Amount\"])\n",
        "        data.append(entry)\n",
        "\n",
        "    return header, data\n"
      ]
    },
    {
      "cell_type": "code",
      "source": [
        "def print_first_5_rows(data):\n",
        "    print(\"\\nFirst 5 rows of the dataset:\")\n",
        "    for i in range(min(5, len(data))):\n",
        "        print(data[i])\n"
      ],
      "metadata": {
        "id": "oEGzdgqIiHjL"
      },
      "execution_count": 16,
      "outputs": []
    },
    {
      "cell_type": "code",
      "source": [
        "def create_and_print_tuples(data):\n",
        "    dates_tuple = tuple(entry[\"Date\"] for entry in data)\n",
        "    categories_tuple = tuple(entry[\"Category\"] for entry in data)\n",
        "    print(\"Tuple of Dates:\", dates_tuple)\n",
        "    print(\"Tuple of Categories:\", categories_tuple)\n"
      ],
      "metadata": {
        "id": "CTIFnZuuiY6w"
      },
      "execution_count": 17,
      "outputs": []
    },
    {
      "cell_type": "code",
      "source": [
        "def find_max_min_amount(data):\n",
        "    amounts_tuple = tuple(entry[\"Amount\"] for entry in data)\n",
        "    max_amount = max(amounts_tuple)\n",
        "    min_amount = min(amounts_tuple)\n",
        "    print(\"Maximum Amount in the Tuple:\", max_amount)\n",
        "    print(\"Minimum Amount in the Tuple:\", min_amount)\n"
      ],
      "metadata": {
        "id": "Jhb9O1q_iZzG"
      },
      "execution_count": 18,
      "outputs": []
    },
    {
      "cell_type": "code",
      "source": [
        "def count_transactions_by_category(data):\n",
        "    category_counts = {}\n",
        "    for entry in data:\n",
        "        category = entry[\"Category\"]\n",
        "        if category in category_counts:\n",
        "            category_counts[category] += 1\n",
        "        else:\n",
        "            category_counts[category] = 1\n",
        "\n",
        "    print(\"Number of Transactions in Each Category:\")\n",
        "    for category, count in category_counts.items():\n",
        "        print(f\"{category}: {count}\")\n"
      ],
      "metadata": {
        "id": "U4hWekAVicya"
      },
      "execution_count": 19,
      "outputs": []
    },
    {
      "cell_type": "code",
      "source": [
        "def print_unique_categories(data):\n",
        "    unique_categories = set(entry[\"Category\"] for entry in data)\n",
        "    print(\"Unique Categories:\", unique_categories)\n"
      ],
      "metadata": {
        "id": "zIO3FJ3OifqW"
      },
      "execution_count": 20,
      "outputs": []
    },
    {
      "cell_type": "code",
      "source": [
        "def print_unique_dates(data):\n",
        "    unique_dates = set(entry[\"Date\"].split()[0] for entry in data)\n",
        "    print(\"Unique Dates:\", unique_dates)\n"
      ],
      "metadata": {
        "id": "kZ0lHj37iiro"
      },
      "execution_count": 21,
      "outputs": []
    },
    {
      "cell_type": "code",
      "source": [
        "def print_total_amount_by_category(data, category):\n",
        "    total_amount = sum(entry[\"Amount\"] for entry in data if entry[\"Category\"] == category)\n",
        "    print(f\"Total amount for category '{category}': {total_amount}\")\n"
      ],
      "metadata": {
        "id": "ne-NdZqgilU9"
      },
      "execution_count": 22,
      "outputs": []
    },
    {
      "cell_type": "code",
      "source": [
        "def print_transactions_above_amount(data, amount):\n",
        "    transactions = [entry for entry in data if entry[\"Amount\"] > amount]\n",
        "    if transactions:\n",
        "        print(f\"Transactions above {amount}:\")\n",
        "        for transaction in transactions:\n",
        "            print(transaction)\n",
        "    else:\n",
        "        print(f\"No transactions found above {amount}.\")\n"
      ],
      "metadata": {
        "id": "sieik4triors"
      },
      "execution_count": 23,
      "outputs": []
    },
    {
      "cell_type": "code",
      "source": [
        "def calculate_total_amount(data):\n",
        "    total_amount = sum(entry[\"Amount\"] for entry in data)\n",
        "    print(f\"Total Amount of All Transactions: {total_amount}\")\n"
      ],
      "metadata": {
        "id": "7xXOSzSVirR3"
      },
      "execution_count": 24,
      "outputs": []
    },
    {
      "cell_type": "code",
      "source": [
        "def calculate_average_amount(data):\n",
        "    total_amount = sum(entry[\"Amount\"] for entry in data)\n",
        "    average_amount = total_amount / len(data)\n",
        "    print(f\"Average Amount of All Transactions: {average_amount}\")\n",
        "\n"
      ],
      "metadata": {
        "id": "LRHcrAGDit0h"
      },
      "execution_count": 25,
      "outputs": []
    },
    {
      "cell_type": "code",
      "source": [
        "def main():\n",
        "    header, data = load_data()\n",
        "\n",
        "    while True:\n",
        "        print(\"\\nMenu:\")\n",
        "        print(\"1. Print first 5 rows of the dataset\")\n",
        "        print(\"2. Create and print tuples of dates and categories\")\n",
        "        print(\"3. Find maximum and minimum amounts\")\n",
        "        print(\"4. Count transactions by category\")\n",
        "        print(\"5. Print unique categories\")\n",
        "        print(\"6. Print unique dates\")\n",
        "        print(\"7. Print total amount for a specific category\")\n",
        "        print(\"8. Find transactions above a certain amount\")\n",
        "        print(\"9. Calculate the total amount of all transactions\")\n",
        "        print(\"10. Calculate the average amount of all transactions\")\n",
        "        print(\"11. Exit\")\n",
        "\n",
        "        choice = input(\"Enter your choice (1-11): \")\n",
        "\n",
        "        if choice == '1':\n",
        "            print_first_5_rows(data)\n",
        "        elif choice == '2':\n",
        "            create_and_print_tuples(data)\n",
        "        elif choice == '3':\n",
        "            find_max_min_amount(data)\n",
        "        elif choice == '4':\n",
        "            count_transactions_by_category(data)\n",
        "        elif choice == '5':\n",
        "            print_unique_categories(data)\n",
        "        elif choice == '6':\n",
        "            print\n"
      ],
      "metadata": {
        "id": "fXIQiaFgixGy"
      },
      "execution_count": 26,
      "outputs": []
    },
    {
      "cell_type": "code",
      "source": [],
      "metadata": {
        "id": "eCXO65Q5i0NU"
      },
      "execution_count": null,
      "outputs": []
    }
  ]
}